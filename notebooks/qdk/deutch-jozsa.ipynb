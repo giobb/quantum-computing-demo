{
 "cells": [
  {
   "cell_type": "markdown",
   "metadata": {},
   "source": [
    "# Deutch-Jozsa Algorithm\n",
    "DJ is a quantum algorithm that exhibits an exponential speedup over classical implementation. Given n-qubits for n-number of parameters, its time complexity is O(1) compared to the worst case on classical implementation which is O(2^(n-1) + 1). Though it has no practical application, it clearly illustrates the quantum mechanical effects of superposition, interference and entanglement. "
   ]
  },
  {
   "cell_type": "code",
   "execution_count": 2,
   "metadata": {},
   "outputs": [
    {
     "output_type": "execute_result",
     "data": {
      "text/plain": [],
      "text/html": "<ul></ul>",
      "application/json": "[]"
     },
     "metadata": {},
     "execution_count": 2
    }
   ],
   "source": [
    "// NOTE: Namespace not accepted due to the non-contiguous nature of cells\n",
    "open Microsoft.Quantum.Canon;\n",
    "open Microsoft.Quantum.Intrinsic;\n",
    "open Microsoft.Quantum.Convert as Convert;\n",
    "open Microsoft.Quantum.Measurement; \n",
    "open Microsoft.Quantum.Arrays;"
   ]
  },
  {
   "cell_type": "markdown",
   "metadata": {},
   "source": [
    "## Oracles\n",
    "Oracles are the functions which property we want to determine. Note the use of [ancilla](https://en.wikipedia.org/wiki/Ancilla_bit) qubit to respresent the result. This is a requirement in [reversible computing](https://en.wikipedia.org/wiki/Reversible_computing) like QC."
   ]
  },
  {
   "cell_type": "code",
   "execution_count": 3,
   "metadata": {},
   "outputs": [
    {
     "output_type": "execute_result",
     "data": {
      "text/plain": [
       "Const0, Const1, Balanced0, Balanced1"
      ],
      "text/html": "<ul><li>Const0</li><li>Const1</li><li>Balanced0</li><li>Balanced1</li></ul>",
      "application/json": "[\"Const0\",\"Const1\",\"Balanced0\",\"Balanced1\"]"
     },
     "metadata": {},
     "execution_count": 3
    }
   ],
   "source": [
    "operation Const0(qubits: Qubit[]) : Unit {\n",
    "    ApplyToEach(I, qubits); // You may omit\n",
    "}\n",
    "\n",
    "operation Const1(qubits: Qubit[]) : Unit {       \n",
    "    I(qubits[0]);  // You may omit\n",
    "    X(qubits[1]);      \n",
    "}\n",
    "\n",
    "operation Balanced0(qubits: Qubit[]) : Unit {\n",
    "    CNOT(qubits[0], qubits[1]);\n",
    "}\n",
    "\n",
    "operation Balanced1(qubits: Qubit[]) : Unit {\n",
    "    CNOT(qubits[0], qubits[1]);\n",
    "    X(qubits[1]);\n",
    "}"
   ]
  },
  {
   "cell_type": "markdown",
   "metadata": {},
   "source": [
    "## Circuit\n",
    "To accomodate different oracles, we isolate the circuit creation in its own operation. Note that Q# has no support on named delegate, only lambda."
   ]
  },
  {
   "cell_type": "code",
   "execution_count": 4,
   "metadata": {},
   "outputs": [
    {
     "output_type": "execute_result",
     "data": {
      "text/plain": [
       "Deutch"
      ],
      "text/html": "<ul><li>Deutch</li></ul>",
      "application/json": "[\"Deutch\"]"
     },
     "metadata": {},
     "execution_count": 4
    }
   ],
   "source": [
    "operation Deutch(oracle: ((Qubit[]) => Unit)) : Result {\n",
    "    use qubits = Qubit[2] {\n",
    "\n",
    "        X(qubits[1]);\n",
    "\n",
    "        H(qubits[0]);\n",
    "        H(qubits[1]);\n",
    "\n",
    "        oracle(qubits);\n",
    "\n",
    "        H(qubits[0]);\n",
    "\n",
    "        let res = M(qubits[0]);\n",
    "\n",
    "        ResetAll(qubits);\n",
    "\n",
    "        return res;\n",
    "    }   \n",
    "}"
   ]
  },
  {
   "cell_type": "code",
   "execution_count": 5,
   "metadata": {},
   "outputs": [
    {
     "output_type": "execute_result",
     "data": {
      "text/plain": [
       "DJMain"
      ],
      "text/html": "<ul><li>DJMain</li></ul>",
      "application/json": "[\"DJMain\"]"
     },
     "metadata": {},
     "execution_count": 5
    }
   ],
   "source": [
    "@EntryPoint()\n",
    "operation DJMain() : Result[] {\n",
    "\n",
    "    mutable res  = [Zero,Zero,Zero,Zero];\n",
    "    let oracles = [Const0, Const1, Balanced0, Balanced1];\n",
    "\n",
    "    for i in 0 .. Length(oracles)-1 {            \n",
    "        set res w/= i <- Deutch(oracles[i]);          \n",
    "    }               \n",
    "\n",
    "    return res;\n",
    "}"
   ]
  },
  {
   "cell_type": "code",
   "execution_count": 6,
   "metadata": {},
   "outputs": [
    {
     "output_type": "execute_result",
     "data": {
      "text/plain": [
       "Zero, Zero, One, One"
      ],
      "text/html": "<ul><li>Zero</li><li>Zero</li><li>One</li><li>One</li></ul>",
      "application/json": "[0,0,1,1]"
     },
     "metadata": {},
     "execution_count": 6
    }
   ],
   "source": [
    "%simulate DJMain"
   ]
  },
  {
   "cell_type": "code",
   "execution_count": 7,
   "metadata": {},
   "outputs": [
    {
     "output_type": "stream",
     "name": "stderr",
     "text": [
      "Please specify a valid resourceId, or specify a valid combination of subscription, resourceGroup, and workspace.\n"
     ]
    },
    {
     "output_type": "execute_result",
     "data": {
      "text/plain": [
       "No Azure Quantum workspace was found that matches the specified criteria."
      ],
      "text/html": "No Azure Quantum workspace was found that matches the specified criteria.",
      "application/json": "{\"error_code\":1012,\"error_name\":\"WorkspaceNotFound\",\"error_description\":\"No Azure Quantum workspace was found that matches the specified criteria.\"}"
     },
     "metadata": {},
     "execution_count": 7
    }
   ],
   "source": [
    "%azure.connect \"<resource id here which you can find in the Overview tab of your Quantum Workspace\""
   ]
  },
  {
   "cell_type": "code",
   "execution_count": 8,
   "metadata": {},
   "outputs": [
    {
     "output_type": "stream",
     "name": "stderr",
     "text": [
      "Please call %azure.connect before setting an execution target.\n"
     ]
    },
    {
     "output_type": "execute_result",
     "data": {
      "text/plain": [
       "Not connected to any Azure Quantum workspace."
      ],
      "text/html": "Not connected to any Azure Quantum workspace.",
      "application/json": "{\"error_code\":1001,\"error_name\":\"NotConnected\",\"error_description\":\"Not connected to any Azure Quantum workspace.\"}"
     },
     "metadata": {},
     "execution_count": 8
    }
   ],
   "source": [
    "%azure.target ionq.qpu"
   ]
  },
  {
   "cell_type": "code",
   "execution_count": 9,
   "metadata": {},
   "outputs": [
    {
     "output_type": "stream",
     "name": "stderr",
     "text": [
      "Please call %azure.connect before submitting a job.\n"
     ]
    },
    {
     "output_type": "execute_result",
     "data": {
      "text/plain": [
       "Not connected to any Azure Quantum workspace."
      ],
      "text/html": "Not connected to any Azure Quantum workspace.",
      "application/json": "{\"error_code\":1001,\"error_name\":\"NotConnected\",\"error_description\":\"Not connected to any Azure Quantum workspace.\"}"
     },
     "metadata": {},
     "execution_count": 9
    }
   ],
   "source": [
    "%azure.submit DJMain jobName=\"<arbitrary job name>\" shots=\"1024\""
   ]
  },
  {
   "cell_type": "code",
   "execution_count": 10,
   "metadata": {},
   "outputs": [
    {
     "output_type": "stream",
     "name": "stderr",
     "text": [
      "c:\\snippet_.qs(1,1): error QS3001: Syntax does not match any known patterns.\n"
     ]
    }
   ],
   "source": [
    "%azure.job \"<job id here>\""
   ]
  }
 ],
 "metadata": {
  "kernelspec": {
   "display_name": "Q#",
   "language": "qsharp",
   "name": "iqsharp"
  },
  "language_info": {
   "file_extension": ".qs",
   "mimetype": "text/x-qsharp",
   "name": "qsharp",
   "version": "0.14"
  }
 },
 "nbformat": 4,
 "nbformat_minor": 4
}