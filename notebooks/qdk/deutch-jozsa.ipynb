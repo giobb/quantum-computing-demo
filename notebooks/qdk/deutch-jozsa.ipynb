{
 "cells": [
  {
   "cell_type": "markdown",
   "metadata": {},
   "source": [
    "# Deutch-Jozsa Algorithm\n",
    "DJ is a quantum algorithm that exhibits an exponential speedup over classical implementation. Given n-qubits for n-number of parameters, its time complexity is O(1) compared to the worst case on classical implementation which is (O)2^(n-1). Though it has no practical application, it clearly illustrates the quantum mechanical effects of superposition, interference and entanglement. "
   ]
  },
  {
   "cell_type": "code",
   "execution_count": null,
   "metadata": {},
   "outputs": [],
   "source": [
    "// NOTE: Namespace not accepted due to the non-contiguous nature of cells\n",
    "open Microsoft.Quantum.Canon;\n",
    "open Microsoft.Quantum.Intrinsic;\n",
    "open Microsoft.Quantum.Convert as Convert;\n",
    "open Microsoft.Quantum.Measurement; \n",
    "open Microsoft.Quantum.Arrays;"
   ]
  },
  {
   "cell_type": "markdown",
   "metadata": {},
   "source": [
    "## Oracles\n",
    "Oracles are the functions which property we want to determine. Note the use of [ancilla](https://en.wikipedia.org/wiki/Ancilla_bit) qubit to respresent the result. This is a requirement in [reversible computing](https://en.wikipedia.org/wiki/Reversible_computing) like QC."
   ]
  },
  {
   "cell_type": "code",
   "execution_count": null,
   "metadata": {},
   "outputs": [],
   "source": [
    "operation Const0(qubits: Qubit[]) : Unit {\n",
    "    ApplyToEach(I, qubits); // You may omit\n",
    "}\n",
    "\n",
    "operation Const1(qubits: Qubit[]) : Unit {       \n",
    "    I(qubits[0]);  // You may omit\n",
    "    X(qubits[1]);      \n",
    "}\n",
    "\n",
    "operation Balanced0(qubits: Qubit[]) : Unit {\n",
    "    CNOT(qubits[0], qubits[1]);\n",
    "}\n",
    "\n",
    "operation Balanced1(qubits: Qubit[]) : Unit {\n",
    "    CNOT(qubits[0], qubits[1]);\n",
    "    X(qubits[1]);\n",
    "}"
   ]
  },
  {
   "cell_type": "markdown",
   "metadata": {},
   "source": [
    "## Circuit\n",
    "To accomodate different oracles, we isolate the circuit creation in its own operation. Note that Q# has no support on named delegate, only lambda."
   ]
  },
  {
   "cell_type": "code",
   "execution_count": null,
   "metadata": {},
   "outputs": [],
   "source": [
    "operation Deutch(oracle: ((Qubit[]) => Unit)) : Result {\n",
    "    use qubits = Qubit[2] {\n",
    "\n",
    "        X(qubits[1]);\n",
    "\n",
    "        H(qubits[0]);\n",
    "        H(qubits[1]);\n",
    "\n",
    "        oracle(qubits);\n",
    "\n",
    "        H(qubits[0]);\n",
    "\n",
    "        let res = M(qubits[0]);\n",
    "\n",
    "        ResetAll(qubits);\n",
    "\n",
    "        return res;\n",
    "    }   \n",
    "}"
   ]
  },
  {
   "cell_type": "code",
   "execution_count": null,
   "metadata": {},
   "outputs": [],
   "source": [
    "@EntryPoint()\n",
    "operation DJMain() : Result[] {\n",
    "\n",
    "    mutable res  = [Zero,Zero,Zero,Zero];\n",
    "    let oracles = [Const0, Const1, Balanced0, Balanced1];\n",
    "\n",
    "    for i in 0 .. Length(oracles)-1 {            \n",
    "        set res w/= i <- Deutch(oracles[i]);          \n",
    "    }               \n",
    "\n",
    "    return res;\n",
    "}"
   ]
  },
  {
   "cell_type": "markdown",
   "metadata": {},
   "source": [
    "## Magic commands\n",
    "[Magic commands](https://docs.microsoft.com/en-us/qsharp/api/iqsharp-magic/) have the advantage of being succint unlike their CLI counterparts."
   ]
  },
  {
   "cell_type": "markdown",
   "metadata": {},
   "source": [
    "### Simulation\n",
    "Prior to submitting the cicuit to a real QC, you may want to simulate it first. The syntax couldn't be simpler"
   ]
  },
  {
   "cell_type": "code",
   "execution_count": null,
   "metadata": {},
   "outputs": [],
   "source": [
    "%simulate DJMain"
   ]
  },
  {
   "cell_type": "markdown",
   "metadata": {},
   "source": [
    "### Submitting to QPU\n",
    "Submission to a QPU (Quantum Processing Unit) or real quantum computer involves the followings steps:\n",
    "1. Connect to your workspace\n",
    "2. Select target (simulator can be targeted too)\n",
    "3. Submit the job (non-blocking) / Execute the job (blocking)\n",
    "4. If you chose the non-blocking way, you can check the status of the job"
   ]
  },
  {
   "cell_type": "code",
   "execution_count": null,
   "metadata": {},
   "outputs": [],
   "source": [
    "%azure.connect \"<resource id here which you can find in the Overview tab of your Quantum Workspace\""
   ]
  },
  {
   "cell_type": "code",
   "execution_count": null,
   "metadata": {},
   "outputs": [],
   "source": [
    "%azure.target ionq.qpu"
   ]
  },
  {
   "cell_type": "code",
   "execution_count": null,
   "metadata": {},
   "outputs": [],
   "source": [
    "%azure.submit DJMain jobName=\"<arbitrary job name>\" shots=\"1024\""
   ]
  },
  {
   "cell_type": "code",
   "execution_count": null,
   "metadata": {},
   "outputs": [],
   "source": [
    "%azure.job \"<job id here>\""
   ]
  }
 ],
 "metadata": {
  "kernelspec": {
   "display_name": "Q#",
   "language": "qsharp",
   "name": "iqsharp"
  },
  "language_info": {
   "file_extension": ".qs",
   "mimetype": "text/x-qsharp",
   "name": "qsharp",
   "version": "0.14"
  }
 },
 "nbformat": 4,
 "nbformat_minor": 4
}
