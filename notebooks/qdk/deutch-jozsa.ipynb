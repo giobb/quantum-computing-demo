{
 "cells": [
  {
   "cell_type": "markdown",
   "metadata": {},
   "source": [
    "# Deutch-Jozsa Algorithm\n",
    "DJ is a quantum algorithm that exhibits an exponential speedup over classical implementation. Given n-qubits for n-number of parameters, its time complexity is O(1) compared to the worst case on classical implementation which is O(2^(n-1) + 1). Though it has no practical application, it clearly illustrates the quantum mechanical effects of superposition, interference and entanglement. "
   ]
  },
  {
   "cell_type": "code",
   "execution_count": 1,
   "metadata": {},
   "outputs": [
    {
     "data": {
      "application/json": "[]",
      "text/html": [
       "<ul></ul>"
      ],
      "text/plain": []
     },
     "execution_count": 1,
     "metadata": {},
     "output_type": "execute_result"
    }
   ],
   "source": [
    "// NOTE: Namespace not accepted due to the non-contiguous nature of cells\n",
    "open Microsoft.Quantum.Canon;\n",
    "open Microsoft.Quantum.Intrinsic;\n",
    "open Microsoft.Quantum.Convert as Convert;\n",
    "open Microsoft.Quantum.Measurement; \n",
    "open Microsoft.Quantum.Arrays;"
   ]
  },
  {
   "cell_type": "markdown",
   "metadata": {},
   "source": [
    "## 1-Qubit Oracles\n",
    "Oracles are the functions which property we want to determine. Note the use of [ancilla](https://en.wikipedia.org/wiki/Ancilla_bit) qubit to respresent the result. This is a requirement in [reversible computing](https://en.wikipedia.org/wiki/Reversible_computing) like QC."
   ]
  },
  {
   "cell_type": "code",
   "execution_count": 2,
   "metadata": {},
   "outputs": [
    {
     "data": {
      "application/json": "[\"Const0\",\"Const1\",\"Balanced0\",\"Balanced1\"]",
      "text/html": [
       "<ul><li>Const0</li><li>Const1</li><li>Balanced0</li><li>Balanced1</li></ul>"
      ],
      "text/plain": [
       "Const0, Const1, Balanced0, Balanced1"
      ]
     },
     "execution_count": 2,
     "metadata": {},
     "output_type": "execute_result"
    }
   ],
   "source": [
    "operation Const0(qubits: Qubit[]) : Unit {\n",
    "    // This is universal and can be used by any\n",
    "    // n-qubit oracle. It's equal to doing nothing.\n",
    "    ApplyToEach(I, qubits); \n",
    "}\n",
    "\n",
    "operation Const1(qubits: Qubit[]) : Unit {       \n",
    "    let indexOfAncilla = Length(qubits)-1;\n",
    "    X(qubits[indexOfAncilla]);      \n",
    "}\n",
    "\n",
    "operation Balanced0(qubits: Qubit[]) : Unit {\n",
    "    CNOT(qubits[0], qubits[1]);\n",
    "}\n",
    "\n",
    "operation Balanced1(qubits: Qubit[]) : Unit {\n",
    "    CNOT(qubits[0], qubits[1]);\n",
    "    X(qubits[1]);\n",
    "}"
   ]
  },
  {
   "cell_type": "markdown",
   "metadata": {},
   "source": [
    "## 2-Qubit Oracles"
   ]
  },
  {
   "cell_type": "code",
   "execution_count": 3,
   "metadata": {},
   "outputs": [
    {
     "data": {
      "application/json": "[\"Balanced_2Qubit0\",\"Balanced_2Qubit1\",\"Balanced_2Qubit2\",\"Balanced_2Qubit3\",\"Balanced_2Qubit4\",\"Balanced_2Qubit5\"]",
      "text/html": [
       "<ul><li>Balanced_2Qubit0</li><li>Balanced_2Qubit1</li><li>Balanced_2Qubit2</li><li>Balanced_2Qubit3</li><li>Balanced_2Qubit4</li><li>Balanced_2Qubit5</li></ul>"
      ],
      "text/plain": [
       "Balanced_2Qubit0, Balanced_2Qubit1, Balanced_2Qubit2, Balanced_2Qubit3, Balanced_2Qubit4, Balanced_2Qubit5"
      ]
     },
     "execution_count": 3,
     "metadata": {},
     "output_type": "execute_result"
    }
   ],
   "source": [
    "operation Balanced_2Qubit0(qubits: Qubit[]) : Unit {\n",
    "    CNOT(qubits[0], qubits[2]);\n",
    "}\n",
    "\n",
    "operation Balanced_2Qubit1(qubits: Qubit[]) : Unit {\n",
    "    CNOT(qubits[0], qubits[2]);\n",
    "    X(qubits[2]);\n",
    "}\n",
    "\n",
    "operation Balanced_2Qubit2(qubits: Qubit[]) : Unit {\n",
    "    CNOT(qubits[1], qubits[2]);        \n",
    "}\n",
    "\n",
    "operation Balanced_2Qubit3(qubits: Qubit[]) : Unit {\n",
    "    CNOT(qubits[1], qubits[2]);  \n",
    "    X(qubits[2]);\n",
    "}\n",
    "\n",
    "operation Balanced_2Qubit4(qubits: Qubit[]) : Unit {\n",
    "    CNOT(qubits[0],qubits[2]);\n",
    "    CNOT(qubits[1],qubits[2]);\n",
    "}\n",
    "\n",
    "operation Balanced_2Qubit5(qubits: Qubit[]) : Unit {\n",
    "    CNOT(qubits[0],qubits[2]);\n",
    "    CNOT(qubits[1],qubits[2]);\n",
    "    X(qubits[2]);\n",
    "}"
   ]
  },
  {
   "cell_type": "markdown",
   "metadata": {},
   "source": [
    "## Circuit\n",
    "To accomodate different oracles, we isolate the circuit creation in its own operation. Note that Q# has no support on named delegate, only lambda."
   ]
  },
  {
   "cell_type": "code",
   "execution_count": 24,
   "metadata": {},
   "outputs": [
    {
     "data": {
      "application/json": "[\"DeutchJozsa\"]",
      "text/html": [
       "<ul><li>DeutchJozsa</li></ul>"
      ],
      "text/plain": [
       "DeutchJozsa"
      ]
     },
     "execution_count": 24,
     "metadata": {},
     "output_type": "execute_result"
    }
   ],
   "source": [
    "operation DeutchJozsa(bits: Int, oracle: ((Qubit[]) => Unit)) : Result {\n",
    "    use qubits = Qubit[bits + 1] {\n",
    "\n",
    "        X(qubits[bits]);\n",
    "\n",
    "        ApplyToEach(H,qubits);\n",
    "\n",
    "        oracle(qubits);\n",
    "\n",
    "        ApplyToEach(H,qubits);            \n",
    "\n",
    "        mutable result = Zero;   \n",
    "        // Hardcoded logic to cater only for 2-qubit oracle      \n",
    "        if  bits == 2 {       \n",
    "            ApplyToEach(X, [qubits[0], qubits[1]]);\n",
    "            CCNOT(qubits[0], qubits[1], qubits[2]);               \n",
    "        }\n",
    "\n",
    "        set result = M(qubits[bits]);\n",
    "\n",
    "        ResetAll(qubits);\n",
    "\n",
    "        return result;\n",
    "    }   \n",
    "}"
   ]
  },
  {
   "cell_type": "markdown",
   "metadata": {},
   "source": [
    "## Trying out Types"
   ]
  },
  {
   "cell_type": "code",
   "execution_count": 5,
   "metadata": {},
   "outputs": [
    {
     "data": {
      "application/json": "[\"DJParams\",\"Complex\"]",
      "text/html": [
       "<ul><li>DJParams</li><li>Complex</li></ul>"
      ],
      "text/plain": [
       "DJParams, Complex"
      ]
     },
     "execution_count": 5,
     "metadata": {},
     "output_type": "execute_result"
    }
   ],
   "source": [
    "// NOT WORKING! Bug?\n",
    "//  https://docs.microsoft.com/en-us/azure/quantum/user-guide/language/expressions/itemaccessexpressions#item-access-for-user-defined-types\n",
    "\n",
    "newtype DJParams = (\n",
    "                        QBitCount : Int,\n",
    "                        Oracles   :((Qubit[]) => Unit)[] // Array of void delegates accepting Qubit array as param                                                         \n",
    "                    );\n",
    "\n",
    "newtype Complex = (Real: Double, Imaginary : Double);\n",
    "//let complex = Complex(1.,0.);"
   ]
  },
  {
   "cell_type": "code",
   "execution_count": 33,
   "metadata": {},
   "outputs": [
    {
     "data": {
      "application/json": "[\"DJMain\"]",
      "text/html": [
       "<ul><li>DJMain</li></ul>"
      ],
      "text/plain": [
       "DJMain"
      ]
     },
     "execution_count": 33,
     "metadata": {},
     "output_type": "execute_result"
    }
   ],
   "source": [
    "@EntryPoint()\n",
    "operation DJMain() : Result[] {\n",
    "\n",
    "        // 1-qubit oracles        \n",
    "        let oracles1Qubit = [Const0, Const1, Balanced0, Balanced1];\n",
    "        \n",
    "        // 2-qubit oracles      \n",
    "        // CAUTION! This causes error in IonQ when submitting all items. \n",
    "        // From tests, the max number of items accepted is 3. BUG?\n",
    "        let oracles2Qubit = [\n",
    "                            //Const0\n",
    "                            //, Const1\n",
    "                              Balanced_2Qubit0\n",
    "                            , Balanced_2Qubit1\n",
    "                            , Balanced_2Qubit2];\n",
    "                        //, Balanced_2Qubit3\n",
    "                        //, Balanced_2Qubit4\n",
    "                        //, Balanced_2Qubit5];\n",
    "\n",
    "        // 1-qubit params\n",
    "        //let oracles = oracles1Qubit;\n",
    "        //let qbitCount = 1;\n",
    "\n",
    "        // 2-Qubit params\n",
    "        let oracles = oracles2Qubit;\n",
    "        let qbitCount = 2;\n",
    "\n",
    "        mutable results = ConstantArray(Length(oracles),Zero);\n",
    "        \n",
    "        for i in 0 .. Length(oracles)-1 {            \n",
    "            set results w/= i <- DeutchJozsa(qbitCount,oracles[i]);          \n",
    "        }               \n",
    "\n",
    "        return results;\n",
    "}"
   ]
  },
  {
   "cell_type": "code",
   "execution_count": 8,
   "metadata": {},
   "outputs": [
    {
     "data": {
      "application/json": "[1,1,1]",
      "text/html": [
       "<ul><li>One</li><li>One</li><li>One</li></ul>"
      ],
      "text/plain": [
       "One, One, One"
      ]
     },
     "execution_count": 8,
     "metadata": {},
     "output_type": "execute_result"
    }
   ],
   "source": [
    "%simulate DJMain"
   ]
  },
  {
   "cell_type": "code",
   "execution_count": 9,
   "metadata": {},
   "outputs": [
    {
     "data": {
      "application/json": "[{\"Metric\":\"CNOT\",\"Sum\":31.0,\"Max\":31.0},{\"Metric\":\"QubitClifford\",\"Sum\":34.0,\"Max\":34.0},{\"Metric\":\"R\",\"Sum\":0.0,\"Max\":0.0},{\"Metric\":\"Measure\",\"Sum\":12.0,\"Max\":12.0},{\"Metric\":\"T\",\"Sum\":21.0,\"Max\":21.0},{\"Metric\":\"Depth\",\"Sum\":15.0,\"Max\":15.0},{\"Metric\":\"Width\",\"Sum\":3.0,\"Max\":3.0},{\"Metric\":\"QubitCount\",\"Sum\":3.0,\"Max\":3.0},{\"Metric\":\"BorrowedWidth\",\"Sum\":0.0,\"Max\":0.0}]",
      "text/html": [
       "<table><thead><tr><th style=\"text-align: start;\">Metric</th><th style=\"text-align: start;\">Sum</th><th style=\"text-align: start;\">Max</th></tr></thead><tbody><tr><td style=\"text-align: start;\">CNOT</td><td style=\"text-align: start;\">31</td><td style=\"text-align: start;\">31</td></tr><tr><td style=\"text-align: start;\">QubitClifford</td><td style=\"text-align: start;\">34</td><td style=\"text-align: start;\">34</td></tr><tr><td style=\"text-align: start;\">R</td><td style=\"text-align: start;\">0</td><td style=\"text-align: start;\">0</td></tr><tr><td style=\"text-align: start;\">Measure</td><td style=\"text-align: start;\">12</td><td style=\"text-align: start;\">12</td></tr><tr><td style=\"text-align: start;\">T</td><td style=\"text-align: start;\">21</td><td style=\"text-align: start;\">21</td></tr><tr><td style=\"text-align: start;\">Depth</td><td style=\"text-align: start;\">15</td><td style=\"text-align: start;\">15</td></tr><tr><td style=\"text-align: start;\">Width</td><td style=\"text-align: start;\">3</td><td style=\"text-align: start;\">3</td></tr><tr><td style=\"text-align: start;\">QubitCount</td><td style=\"text-align: start;\">3</td><td style=\"text-align: start;\">3</td></tr><tr><td style=\"text-align: start;\">BorrowedWidth</td><td style=\"text-align: start;\">0</td><td style=\"text-align: start;\">0</td></tr></tbody></table>"
      ],
      "text/plain": [
       "Metric        Sum Max\r\n",
       "------------- -- --\r\n",
       "CNOT          31 31\r\n",
       "QubitClifford 34 34\r\n",
       "R             0  0\r\n",
       "Measure       12 12\r\n",
       "T             21 21\r\n",
       "Depth         15 15\r\n",
       "Width         3  3\r\n",
       "QubitCount    3  3\r\n",
       "BorrowedWidth 0  0\r\n"
      ]
     },
     "execution_count": 9,
     "metadata": {},
     "output_type": "execute_result"
    }
   ],
   "source": [
    "%estimate DJMain"
   ]
  },
  {
   "cell_type": "code",
   "execution_count": 10,
   "metadata": {},
   "outputs": [
    {
     "data": {
      "application/json": "{\"UserCode\":\"EMBA7794R\",\"DeviceCode\":\"EAQABAAEAAAD--DLA3VO7QrddgJg7WevrBUHod6F0mw87hCbKzX57ljOfWqoXJnIlTRXcd7ickPqznJwbAK1nITJ44WMaFT5SjmVO5Y9KkiWUTweZIFWAFrGmLjXk46vmhynHaWhzUP5lddYLHR51fOjbRO7e4vnacVQE-_12zs3pil5sZzZGz3-Mrzv-KNJA7oadoA-qZeUgAA\",\"VerificationUrl\":\"https://microsoft.com/devicelogin\",\"ExpiresOn\":\"2021-03-29T18:49:25.647477+00:00\",\"Interval\":5,\"Message\":\"To sign in, use a web browser to open the page https://microsoft.com/devicelogin and enter the code EMBA7794R to authenticate.\",\"ClientId\":\"84ba0947-6c53-4dd2-9ca9-b3694761521b\",\"Scopes\":[\"https://quantum.microsoft.com/Jobs.ReadWrite\",\"offline_access\",\"profile\",\"openid\"]}",
      "text/html": [
       "To sign in, use a web browser to open the page <a href=\"https://microsoft.com/devicelogin\"><code>https://microsoft.com/devicelogin</code></a> and enter the code <span id=\"823c89d9-27ac-405b-867f-337da48427e5\" style=\"background-color: #e0e0e0;\">\r\n",
       "                            <i class=\"fa fa-clipboard\" aria-hidden=\"true\"></i>\r\n",
       "                            <strong style=\"padding-right: 0.2em\">EMBA7794R</strong></span> to authenticate.\n",
       "<script>\r\n",
       "                    window.iqsharp.addCopyListener(\"823c89d9-27ac-405b-867f-337da48427e5\", \"EMBA7794R\");\r\n",
       "                </script>"
      ],
      "text/plain": [
       "To sign in, use a web browser to open the page https://microsoft.com/devicelogin and enter the code EMBA7794R to authenticate."
      ]
     },
     "metadata": {},
     "output_type": "display_data"
    },
    {
     "name": "stdout",
     "output_type": "stream",
     "text": [
      "Connected to Azure Quantum workspace demo-ws1 in location westus.\r\n"
     ]
    },
    {
     "data": {
      "application/json": "[{\"id\":\"ionq.qpu\",\"current_availability\":\"Available\",\"average_queue_time\":82},{\"id\":\"ionq.simulator\",\"current_availability\":\"Available\",\"average_queue_time\":0},{\"id\":\"honeywell.hqs-lt-1.0\",\"current_availability\":\"Unavailable\",\"average_queue_time\":0},{\"id\":\"honeywell.hqs-lt-1.0-apival\",\"current_availability\":\"Available\",\"average_queue_time\":0}]",
      "text/html": [
       "<table><thead><tr><th style=\"text-align: start;\">Target ID</th><th style=\"text-align: start;\">Current Availability</th><th style=\"text-align: start;\">Average Queue Time (Seconds)</th></tr></thead><tbody><tr><td style=\"text-align: start;\">ionq.qpu</td><td style=\"text-align: start;\">Available</td><td style=\"text-align: start;\">82</td></tr><tr><td style=\"text-align: start;\">ionq.simulator</td><td style=\"text-align: start;\">Available</td><td style=\"text-align: start;\">0</td></tr><tr><td style=\"text-align: start;\">honeywell.hqs-lt-1.0</td><td style=\"text-align: start;\">Unavailable</td><td style=\"text-align: start;\">0</td></tr><tr><td style=\"text-align: start;\">honeywell.hqs-lt-1.0-apival</td><td style=\"text-align: start;\">Available</td><td style=\"text-align: start;\">0</td></tr></tbody></table>"
      ],
      "text/plain": [
       "Target ID                   Current Availability Average Queue Time (Seconds)\r\n",
       "--------------------------- ----------- --\r\n",
       "ionq.qpu                    Available   82\r\n",
       "ionq.simulator              Available   0\r\n",
       "honeywell.hqs-lt-1.0        Unavailable 0\r\n",
       "honeywell.hqs-lt-1.0-apival Available   0\r\n"
      ]
     },
     "execution_count": 10,
     "metadata": {},
     "output_type": "execute_result"
    }
   ],
   "source": [
    "%azure.connect \"/subscriptions/a6c78a63-6e6d-4d66-8d84-3989715f3111/resourceGroups/quantum/providers/Microsoft.Quantum/Workspaces/demo-ws1\""
   ]
  },
  {
   "cell_type": "code",
   "execution_count": 11,
   "metadata": {},
   "outputs": [
    {
     "name": "stdout",
     "output_type": "stream",
     "text": [
      "Loading package Microsoft.Quantum.Providers.IonQ and dependencies...\n",
      "Active target is now ionq.qpu\n"
     ]
    },
    {
     "data": {
      "application/json": "{\"id\":\"ionq.qpu\",\"current_availability\":\"Available\",\"average_queue_time\":82}",
      "text/html": [
       "<table><thead><tr><th style=\"text-align: start;\">Target ID</th><th style=\"text-align: start;\">Current Availability</th><th style=\"text-align: start;\">Average Queue Time (Seconds)</th></tr></thead><tbody><tr><td style=\"text-align: start;\">ionq.qpu</td><td style=\"text-align: start;\">Available</td><td style=\"text-align: start;\">82</td></tr></tbody></table>"
      ],
      "text/plain": [
       "Target ID Current Availability Average Queue Time (Seconds)\r\n",
       "-------- --------- --\r\n",
       "ionq.qpu Available 82\r\n"
      ]
     },
     "execution_count": 11,
     "metadata": {},
     "output_type": "execute_result"
    }
   ],
   "source": [
    "%azure.target ionq.qpu"
   ]
  },
  {
   "cell_type": "code",
   "execution_count": 34,
   "metadata": {},
   "outputs": [
    {
     "name": "stdout",
     "output_type": "stream",
     "text": [
      "Submitting DJMain to target ionq.qpu...\n",
      "Job successfully submitted for 1024 shots.\n",
      "   Job name: DJ 3 Qubits, 3 const oracles\n",
      "   Job ID: 781f98bc-0a84-41a0-8569-ba160ae0c68c\n"
     ]
    },
    {
     "data": {
      "application/json": "{\"id\":\"781f98bc-0a84-41a0-8569-ba160ae0c68c\",\"name\":\"DJ 3 Qubits, 3 const oracles\",\"status\":\"Waiting\",\"uri\":\"https://ms.portal.azure.com/#@microsoft.onmicrosoft.com/resource/subscriptions/a6c78a63-6e6d-4d66-8d84-3989715f3111/resourceGroups/quantum/providers/Microsoft.Quantum/Workspaces/demo-ws1/job_management?microsoft_azure_quantum_jobid=781f98bc-0a84-41a0-8569-ba160ae0c68c\",\"provider\":\"ionq\",\"target\":\"ionq.qpu\",\"creation_time\":\"2021-03-29T19:25:24.0180862Z\",\"begin_execution_time\":null,\"end_execution_time\":null}",
      "text/html": [
       "<table><thead><tr><th style=\"text-align: start;\">Job Name</th><th style=\"text-align: start;\">Job ID</th><th style=\"text-align: start;\">Job Status</th><th style=\"text-align: start;\">Target</th><th style=\"text-align: start;\">Creation Time</th><th style=\"text-align: start;\">Begin Execution Time</th><th style=\"text-align: start;\">End Execution Time</th></tr></thead><tbody><tr><td style=\"text-align: start;\">DJ 3 Qubits, 3 const oracles</td><td style=\"text-align: start;\"><a href=\"https://ms.portal.azure.com/#@microsoft.onmicrosoft.com/resource/subscriptions/a6c78a63-6e6d-4d66-8d84-3989715f3111/resourceGroups/quantum/providers/Microsoft.Quantum/Workspaces/demo-ws1/job_management?microsoft_azure_quantum_jobid=781f98bc-0a84-41a0-8569-ba160ae0c68c\" target=\"_blank\">781f98bc-0a84-41a0-8569-ba160ae0c68c</a></td><td style=\"text-align: start;\">Waiting</td><td style=\"text-align: start;\">ionq.qpu</td><td style=\"text-align: start;\">03/29/2021 19:25:24</td><td style=\"text-align: start;\"></td><td style=\"text-align: start;\"></td></tr></tbody></table>"
      ],
      "text/plain": [
       "Job Name                     Job ID                                                                                                                                                                                                                                                                                                                                          Job Status Target   Creation Time       Begin Execution Time End Execution Time\r\n",
       "---------------------------- ----------------------------------------------------------------------------------------------------------------------------------------------------------------------------------------------------------------------------------------------------------------------------------------------------------------------------------------------- ------- -------- -------------------\r\n",
       "DJ 3 Qubits, 3 const oracles <a href=\"https://ms.portal.azure.com/#@microsoft.onmicrosoft.com/resource/subscriptions/a6c78a63-6e6d-4d66-8d84-3989715f3111/resourceGroups/quantum/providers/Microsoft.Quantum/Workspaces/demo-ws1/job_management?microsoft_azure_quantum_jobid=781f98bc-0a84-41a0-8569-ba160ae0c68c\" target=\"_blank\">781f98bc-0a84-41a0-8569-ba160ae0c68c</a> Waiting ionq.qpu 03/29/2021 19:25:24\r\n"
      ]
     },
     "execution_count": 34,
     "metadata": {},
     "output_type": "execute_result"
    }
   ],
   "source": [
    "%azure.submit DJMain jobName=\"DJ 3 Qubits, 3 const oracles\" shots=\"1024\""
   ]
  },
  {
   "cell_type": "code",
   "execution_count": 27,
   "metadata": {},
   "outputs": [
    {
     "data": {
      "application/json": "{\"id\":\"457c620e-d4d2-40ae-9231-d8d9498f63f9\",\"name\":\"DJ 3 Qubits, 2 const oracles\",\"status\":\"Succeeded\",\"uri\":\"https://ms.portal.azure.com/#@microsoft.onmicrosoft.com/resource/subscriptions/a6c78a63-6e6d-4d66-8d84-3989715f3111/resourceGroups/quantum/providers/Microsoft.Quantum/Workspaces/demo-ws1/job_management?microsoft_azure_quantum_jobid=457c620e-d4d2-40ae-9231-d8d9498f63f9\",\"provider\":\"ionq\",\"target\":\"ionq.qpu\",\"creation_time\":\"2021-03-29T18:58:53.3590269Z\",\"begin_execution_time\":\"2021-03-29T19:00:38.922Z\",\"end_execution_time\":\"2021-03-29T19:00:48.067Z\"}",
      "text/html": [
       "<table><thead><tr><th style=\"text-align: start;\">Job Name</th><th style=\"text-align: start;\">Job ID</th><th style=\"text-align: start;\">Job Status</th><th style=\"text-align: start;\">Target</th><th style=\"text-align: start;\">Creation Time</th><th style=\"text-align: start;\">Begin Execution Time</th><th style=\"text-align: start;\">End Execution Time</th></tr></thead><tbody><tr><td style=\"text-align: start;\">DJ 3 Qubits, 2 const oracles</td><td style=\"text-align: start;\"><a href=\"https://ms.portal.azure.com/#@microsoft.onmicrosoft.com/resource/subscriptions/a6c78a63-6e6d-4d66-8d84-3989715f3111/resourceGroups/quantum/providers/Microsoft.Quantum/Workspaces/demo-ws1/job_management?microsoft_azure_quantum_jobid=457c620e-d4d2-40ae-9231-d8d9498f63f9\" target=\"_blank\">457c620e-d4d2-40ae-9231-d8d9498f63f9</a></td><td style=\"text-align: start;\">Succeeded</td><td style=\"text-align: start;\">ionq.qpu</td><td style=\"text-align: start;\">03/29/2021 18:58:53</td><td style=\"text-align: start;\">03/29/2021 19:00:38</td><td style=\"text-align: start;\">03/29/2021 19:00:48</td></tr></tbody></table>"
      ],
      "text/plain": [
       "Job Name                     Job ID                                                                                                                                                                                                                                                                                                                                          Job Status Target   Creation Time       Begin Execution Time End Execution Time\r\n",
       "---------------------------- ----------------------------------------------------------------------------------------------------------------------------------------------------------------------------------------------------------------------------------------------------------------------------------------------------------------------------------------------- --------- -------- ------------------- ------------------- -------------------\r\n",
       "DJ 3 Qubits, 2 const oracles <a href=\"https://ms.portal.azure.com/#@microsoft.onmicrosoft.com/resource/subscriptions/a6c78a63-6e6d-4d66-8d84-3989715f3111/resourceGroups/quantum/providers/Microsoft.Quantum/Workspaces/demo-ws1/job_management?microsoft_azure_quantum_jobid=457c620e-d4d2-40ae-9231-d8d9498f63f9\" target=\"_blank\">457c620e-d4d2-40ae-9231-d8d9498f63f9</a> Succeeded ionq.qpu 03/29/2021 18:58:53 03/29/2021 19:00:38 03/29/2021 19:00:48\r\n"
      ]
     },
     "execution_count": 27,
     "metadata": {},
     "output_type": "execute_result"
    }
   ],
   "source": [
    "%azure.status \"457c620e-d4d2-40ae-9231-d8d9498f63f9\""
   ]
  },
  {
   "cell_type": "code",
   "execution_count": 31,
   "metadata": {},
   "outputs": [
    {
     "data": {
      "application/json": "{\"[0,0,0]\":0.1264,\"[1,0,0]\":0.0148,\"[0,1,0]\":0.03250000000000001,\"[1,1,0]\":0.006,\"[0,0,1]\":0.5805000000000001,\"[1,0,1]\":0.053000000000000005,\"[1,1,1]\":0.0235,\"[0,1,1]\":0.1652}",
      "text/html": [
       "\r\n",
       "                    <table style=\"table-layout: fixed; width: 100%\">\r\n",
       "                        <thead>\r\n",
       "                            <tr>\r\n",
       "                                <th style=\"text-align: left; width: 25ch\">Result</th>\r\n",
       "                                <th style=\"text-align: left; width: 25ch\">Frequency</th>\r\n",
       "                                <th style=\"text-align: left; width: calc(100% - 25ch - 25ch)\">Histogram</th>\r\n",
       "                            </tr>\r\n",
       "                        </thead>\r\n",
       "                        <tbody>\r\n",
       "                            \r\n",
       "                            <tr>\r\n",
       "                                <td style=\"text-align: left; width: 25ch\">[0,0,0]</td>\r\n",
       "                                <td style=\"text-align: left; width: 25ch\">0.1264</td>\r\n",
       "                                <td style=\"text-align: left; width: calc(100% - 25ch - 25ch)\">\r\n",
       "                                    <progress\r\n",
       "                                        max=\"100\"\r\n",
       "                                        value=\"12.64\"\r\n",
       "                                        style=\"width: 100%;\"\r\n",
       "                                    >\r\n",
       "                                </td>\r\n",
       "                            </tr>\r\n",
       "                        \n",
       "\r\n",
       "                            <tr>\r\n",
       "                                <td style=\"text-align: left; width: 25ch\">[1,0,0]</td>\r\n",
       "                                <td style=\"text-align: left; width: 25ch\">0.0148</td>\r\n",
       "                                <td style=\"text-align: left; width: calc(100% - 25ch - 25ch)\">\r\n",
       "                                    <progress\r\n",
       "                                        max=\"100\"\r\n",
       "                                        value=\"1.48\"\r\n",
       "                                        style=\"width: 100%;\"\r\n",
       "                                    >\r\n",
       "                                </td>\r\n",
       "                            </tr>\r\n",
       "                        \n",
       "\r\n",
       "                            <tr>\r\n",
       "                                <td style=\"text-align: left; width: 25ch\">[0,1,0]</td>\r\n",
       "                                <td style=\"text-align: left; width: 25ch\">0.03250000000000001</td>\r\n",
       "                                <td style=\"text-align: left; width: calc(100% - 25ch - 25ch)\">\r\n",
       "                                    <progress\r\n",
       "                                        max=\"100\"\r\n",
       "                                        value=\"3.250000000000001\"\r\n",
       "                                        style=\"width: 100%;\"\r\n",
       "                                    >\r\n",
       "                                </td>\r\n",
       "                            </tr>\r\n",
       "                        \n",
       "\r\n",
       "                            <tr>\r\n",
       "                                <td style=\"text-align: left; width: 25ch\">[1,1,0]</td>\r\n",
       "                                <td style=\"text-align: left; width: 25ch\">0.006</td>\r\n",
       "                                <td style=\"text-align: left; width: calc(100% - 25ch - 25ch)\">\r\n",
       "                                    <progress\r\n",
       "                                        max=\"100\"\r\n",
       "                                        value=\"0.6\"\r\n",
       "                                        style=\"width: 100%;\"\r\n",
       "                                    >\r\n",
       "                                </td>\r\n",
       "                            </tr>\r\n",
       "                        \n",
       "\r\n",
       "                            <tr>\r\n",
       "                                <td style=\"text-align: left; width: 25ch\">[0,0,1]</td>\r\n",
       "                                <td style=\"text-align: left; width: 25ch\">0.5805000000000001</td>\r\n",
       "                                <td style=\"text-align: left; width: calc(100% - 25ch - 25ch)\">\r\n",
       "                                    <progress\r\n",
       "                                        max=\"100\"\r\n",
       "                                        value=\"58.05000000000001\"\r\n",
       "                                        style=\"width: 100%;\"\r\n",
       "                                    >\r\n",
       "                                </td>\r\n",
       "                            </tr>\r\n",
       "                        \n",
       "\r\n",
       "                            <tr>\r\n",
       "                                <td style=\"text-align: left; width: 25ch\">[1,0,1]</td>\r\n",
       "                                <td style=\"text-align: left; width: 25ch\">0.053000000000000005</td>\r\n",
       "                                <td style=\"text-align: left; width: calc(100% - 25ch - 25ch)\">\r\n",
       "                                    <progress\r\n",
       "                                        max=\"100\"\r\n",
       "                                        value=\"5.300000000000001\"\r\n",
       "                                        style=\"width: 100%;\"\r\n",
       "                                    >\r\n",
       "                                </td>\r\n",
       "                            </tr>\r\n",
       "                        \n",
       "\r\n",
       "                            <tr>\r\n",
       "                                <td style=\"text-align: left; width: 25ch\">[1,1,1]</td>\r\n",
       "                                <td style=\"text-align: left; width: 25ch\">0.0235</td>\r\n",
       "                                <td style=\"text-align: left; width: calc(100% - 25ch - 25ch)\">\r\n",
       "                                    <progress\r\n",
       "                                        max=\"100\"\r\n",
       "                                        value=\"2.35\"\r\n",
       "                                        style=\"width: 100%;\"\r\n",
       "                                    >\r\n",
       "                                </td>\r\n",
       "                            </tr>\r\n",
       "                        \n",
       "\r\n",
       "                            <tr>\r\n",
       "                                <td style=\"text-align: left; width: 25ch\">[0,1,1]</td>\r\n",
       "                                <td style=\"text-align: left; width: 25ch\">0.1652</td>\r\n",
       "                                <td style=\"text-align: left; width: calc(100% - 25ch - 25ch)\">\r\n",
       "                                    <progress\r\n",
       "                                        max=\"100\"\r\n",
       "                                        value=\"16.520000000000003\"\r\n",
       "                                        style=\"width: 100%;\"\r\n",
       "                                    >\r\n",
       "                                </td>\r\n",
       "                            </tr>\r\n",
       "                        \r\n",
       "                        </tbody>\r\n",
       "                    </table>\r\n",
       "                "
      ],
      "text/plain": [
       "Result  Frequency\r\n",
       "------- --------------------\r\n",
       "[0,0,0] 0.1264\r\n",
       "[1,0,0] 0.0148\r\n",
       "[0,1,0] 0.03250000000000001\r\n",
       "[1,1,0] 0.006\r\n",
       "[0,0,1] 0.5805000000000001\r\n",
       "[1,0,1] 0.053000000000000005\r\n",
       "[1,1,1] 0.0235\r\n",
       "[0,1,1] 0.1652\r\n"
      ]
     },
     "execution_count": 31,
     "metadata": {},
     "output_type": "execute_result"
    }
   ],
   "source": [
    "%azure.output \"6b025829-8b38-4026-ba30-c1320c12b7b0\""
   ]
  },
  {
   "cell_type": "code",
   "execution_count": null,
   "metadata": {},
   "outputs": [],
   "source": []
  }
 ],
 "metadata": {
  "kernelspec": {
   "display_name": "Q#",
   "language": "qsharp",
   "name": "iqsharp"
  },
  "language_info": {
   "file_extension": ".qs",
   "mimetype": "text/x-qsharp",
   "name": "qsharp",
   "version": "0.14"
  }
 },
 "nbformat": 4,
 "nbformat_minor": 4
}
