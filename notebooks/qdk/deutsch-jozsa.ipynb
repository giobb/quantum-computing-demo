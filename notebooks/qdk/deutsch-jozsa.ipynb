{
 "cells": [
  {
   "cell_type": "markdown",
   "metadata": {},
   "source": [
    "# Deutsch-Jozsa Algorithm\n",
    "DJ is a quantum algorithm that exhibits an exponential speedup over classical implementation. Given n-qubits for n-number of parameters, its time complexity is O(1) compared to the worst case on classical implementation which is O(2^(n-1) + 1). Though it has no practical application, it clearly illustrates the quantum mechanical effects of superposition, interference and entanglement. "
   ]
  },
  {
   "cell_type": "code",
   "execution_count": null,
   "metadata": {},
   "outputs": [],
   "source": [
    "// NOTE: Namespace not accepted due to the non-contiguous nature of cells\n",
    "open Microsoft.Quantum.Canon;\n",
    "open Microsoft.Quantum.Intrinsic;\n",
    "open Microsoft.Quantum.Convert as Convert;\n",
    "open Microsoft.Quantum.Measurement; \n",
    "open Microsoft.Quantum.Arrays;"
   ]
  },
  {
   "cell_type": "markdown",
   "metadata": {},
   "source": [
    "## Universal Oracles\n",
    "Constant oracles are universal. They can be used by any n-qubit oracle."
   ]
  },
  {
   "cell_type": "code",
   "execution_count": null,
   "metadata": {},
   "outputs": [],
   "source": [
    "operation Const0(qubits: Qubit[]) : Unit {\n",
    "    // This is universal and can be used by any\n",
    "    // n-qubit oracle. It's equal to doing nothing.\n",
    "    ApplyToEach(I, qubits); \n",
    "}\n",
    "\n",
    "operation Const1(qubits: Qubit[]) : Unit {       \n",
    "    let indexOfAncilla = Length(qubits)-1;\n",
    "    X(qubits[indexOfAncilla]);   \n",
    "}"
   ]
  },
  {
   "cell_type": "markdown",
   "metadata": {},
   "source": [
    "## 1-Qubit Oracles\n",
    "Oracles are the functions which property we want to determine. Note the use of [ancilla](https://en.wikipedia.org/wiki/Ancilla_bit) qubit to respresent the result. This is a requirement in [reversible computing](https://en.wikipedia.org/wiki/Reversible_computing) like QC."
   ]
  },
  {
   "cell_type": "code",
   "execution_count": null,
   "metadata": {},
   "outputs": [],
   "source": [
    "operation Balanced0(qubits: Qubit[]) : Unit {\n",
    "    CNOT(qubits[0], qubits[1]);\n",
    "}\n",
    "\n",
    "operation Balanced1(qubits: Qubit[]) : Unit {\n",
    "    CNOT(qubits[0], qubits[1]);\n",
    "    X(qubits[1]);\n",
    "}"
   ]
  },
  {
   "cell_type": "markdown",
   "metadata": {},
   "source": [
    "## 2-Qubit Oracles"
   ]
  },
  {
   "cell_type": "code",
   "execution_count": null,
   "metadata": {},
   "outputs": [],
   "source": [
    "operation Balanced_2Qubit0(qubits: Qubit[]) : Unit {\n",
    "    CNOT(qubits[0], qubits[2]);\n",
    "}\n",
    "\n",
    "operation Balanced_2Qubit1(qubits: Qubit[]) : Unit {\n",
    "    CNOT(qubits[0], qubits[2]);\n",
    "    X(qubits[2]);\n",
    "}\n",
    "\n",
    "operation Balanced_2Qubit2(qubits: Qubit[]) : Unit {\n",
    "    CNOT(qubits[1], qubits[2]);        \n",
    "}\n",
    "\n",
    "operation Balanced_2Qubit3(qubits: Qubit[]) : Unit {\n",
    "    CNOT(qubits[1], qubits[2]);  \n",
    "    X(qubits[2]);\n",
    "}\n",
    "\n",
    "operation Balanced_2Qubit4(qubits: Qubit[]) : Unit {\n",
    "    CNOT(qubits[0],qubits[2]);\n",
    "    CNOT(qubits[1],qubits[2]);\n",
    "}\n",
    "\n",
    "operation Balanced_2Qubit5(qubits: Qubit[]) : Unit {\n",
    "    CNOT(qubits[0],qubits[2]);\n",
    "    CNOT(qubits[1],qubits[2]);\n",
    "    X(qubits[2]);\n",
    "}"
   ]
  },
  {
   "cell_type": "markdown",
   "metadata": {},
   "source": [
    "## Circuit\n",
    "To accomodate different oracles, we isolate the circuit creation in its own operation. Note that Q# has no support on named delegate, only lambda."
   ]
  },
  {
   "cell_type": "code",
   "execution_count": null,
   "metadata": {},
   "outputs": [],
   "source": [
    "operation DeutschJozsa(bits: Int, oracle: ((Qubit[]) => Unit)) : Result {\n",
    "    use qubits = Qubit[bits + 1] { // to accomodate ancilla\n",
    "\n",
    "        X(qubits[bits]);\n",
    "\n",
    "        ApplyToEach(H,qubits);\n",
    "\n",
    "        oracle(qubits);     \n",
    "        \n",
    "        ApplyToEach(H,qubits);\n",
    "\n",
    "        mutable result = Zero;   \n",
    "        \n",
    "        // Hardcoded logic for 1-qubit oracles\n",
    "        if (bits == 1){\n",
    "            set result = M(qubits[0]);\n",
    "        }\n",
    "        \n",
    "        // Hardcoded logicfor 2-qubit oracles     \n",
    "        if  bits == 2 {       \n",
    "            ApplyToEach(X, [qubits[0], qubits[1]]);\n",
    "            CCNOT(qubits[0], qubits[1], qubits[2]);  \n",
    "            set result = M(qubits[bits]);\n",
    "        }      \n",
    "\n",
    "        ResetAll(qubits);\n",
    "\n",
    "        return result;\n",
    "    }   \n",
    "}"
   ]
  },
  {
   "cell_type": "markdown",
   "metadata": {},
   "source": [
    "## Trying out Types"
   ]
  },
  {
   "cell_type": "code",
   "execution_count": null,
   "metadata": {},
   "outputs": [],
   "source": [
    "// NOT WORKING! Bug?\n",
    "//  https://docs.microsoft.com/en-us/azure/quantum/user-guide/language/expressions/itemaccessexpressions#item-access-for-user-defined-types\n",
    "\n",
    "newtype DJParams = (\n",
    "                        QBitCount : Int,\n",
    "                        Oracles   :((Qubit[]) => Unit)[] // Array of void delegates accepting Qubit array as param                                                         \n",
    "                    );\n",
    "\n",
    "newtype Complex = (Real: Double, Imaginary : Double);\n",
    "//let complex = Complex(1.,0.);"
   ]
  },
  {
   "cell_type": "code",
   "execution_count": null,
   "metadata": {},
   "outputs": [],
   "source": [
    "@EntryPoint()\n",
    "operation DJMain() : Result[] {\n",
    "\n",
    "        // 1-qubit oracles        \n",
    "        let oracles1Qubit = [Const0, Const1, Balanced0, Balanced1];\n",
    "        \n",
    "        // 2-qubit oracles      \n",
    "        // CAUTION! This causes error in IonQ when submitting all items. \n",
    "        // From tests, the max number of items accepted is 3. BUG?\n",
    "        let oracles2Qubit = [\n",
    "                            //Const0\n",
    "                            //, Const1\n",
    "                              Balanced_2Qubit0\n",
    "                            , Balanced_2Qubit1\n",
    "                            , Balanced_2Qubit2];\n",
    "                        //, Balanced_2Qubit3\n",
    "                        //, Balanced_2Qubit4\n",
    "                        //, Balanced_2Qubit5];\n",
    "\n",
    "        // 1-qubit params\n",
    "        //let oracles = oracles1Qubit;\n",
    "        //let qbitCount = 1;\n",
    "\n",
    "        // 2-Qubit params\n",
    "        let oracles = oracles2Qubit;\n",
    "        let qbitCount = 2;\n",
    "\n",
    "        mutable results = ConstantArray(Length(oracles),Zero);\n",
    "        \n",
    "        for i in 0 .. Length(oracles)-1 {            \n",
    "            set results w/= i <- DeutschJozsa(qbitCount,oracles[i]);          \n",
    "        }               \n",
    "\n",
    "        return results;\n",
    "}"
   ]
  },
  {
   "cell_type": "code",
   "execution_count": null,
   "metadata": {},
   "outputs": [],
   "source": [
    "%simulate DJMain"
   ]
  },
  {
   "cell_type": "code",
   "execution_count": null,
   "metadata": {},
   "outputs": [],
   "source": [
    "%estimate DJMain"
   ]
  },
  {
   "cell_type": "code",
   "execution_count": null,
   "metadata": {},
   "outputs": [],
   "source": [
    "%azure.connect \"<find your workspace id in the Overview tab of your Quantum Workspace>\""
   ]
  },
  {
   "cell_type": "code",
   "execution_count": null,
   "metadata": {},
   "outputs": [],
   "source": [
    "%azure.target ionq.qpu"
   ]
  },
  {
   "cell_type": "code",
   "execution_count": null,
   "metadata": {},
   "outputs": [],
   "source": [
    "%azure.submit DJMain jobName=\"DJ 2 Qubit, 2 Const, 1 Bal (last oracle) oracles\" shots=\"1024\""
   ]
  },
  {
   "cell_type": "code",
   "execution_count": null,
   "metadata": {},
   "outputs": [],
   "source": [
    "%azure.status \"job id here\""
   ]
  },
  {
   "cell_type": "code",
   "execution_count": null,
   "metadata": {},
   "outputs": [],
   "source": [
    "%azure.output \"job id here - do this only when the job is done\""
   ]
  }
 ],
 "metadata": {
  "kernelspec": {
   "display_name": "Q#",
   "language": "qsharp",
   "name": "iqsharp"
  },
  "language_info": {
   "file_extension": ".qs",
   "mimetype": "text/x-qsharp",
   "name": "qsharp",
   "version": "0.14"
  }
 },
 "nbformat": 4,
 "nbformat_minor": 4
}
