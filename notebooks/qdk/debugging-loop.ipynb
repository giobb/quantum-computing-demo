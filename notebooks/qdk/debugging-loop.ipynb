{
 "cells": [
  {
   "cell_type": "code",
   "execution_count": 17,
   "metadata": {},
   "outputs": [
    {
     "data": {
      "application/json": "[\"LoopNQubits\"]",
      "text/html": [
       "<ul><li>LoopNQubits</li></ul>"
      ],
      "text/plain": [
       "LoopNQubits"
      ]
     },
     "execution_count": 17,
     "metadata": {},
     "output_type": "execute_result"
    }
   ],
   "source": [
    "open Microsoft.Quantum.Canon;\n",
    "open Microsoft.Quantum.Intrinsic;\n",
    "open Microsoft.Quantum.Arrays;\n",
    "open Microsoft.Quantum.Measurement;\n",
    "\n",
    "operation LoopNQubits() : Result[] {\n",
    "    mutable results = ConstantArray(8,Zero);\n",
    "    for i in 0 .. 7 {\n",
    "        use qubits = Qubit[3] {\n",
    "            ApplyToEach(H, qubits);\n",
    "            mutable result = Zero;\n",
    "            set result = M(qubits[2]);\n",
    "            set results w/= i <- result;\n",
    "            ResetAll(qubits);\n",
    "        }\n",
    "    }\n",
    "    return results;\n",
    "}\n"
   ]
  },
  {
   "cell_type": "code",
   "execution_count": 18,
   "metadata": {},
   "outputs": [
    {
     "name": "stdout",
     "output_type": "stream",
     "text": [
      "Connected to Azure Quantum workspace demo-ws1 in location westus.\r\n"
     ]
    },
    {
     "data": {
      "application/json": "[{\"id\":\"ionq.qpu\",\"current_availability\":\"Available\",\"average_queue_time\":1051},{\"id\":\"ionq.simulator\",\"current_availability\":\"Available\",\"average_queue_time\":0},{\"id\":\"honeywell.hqs-lt-1.0\",\"current_availability\":\"Degraded\",\"average_queue_time\":29015},{\"id\":\"honeywell.hqs-lt-1.0-apival\",\"current_availability\":\"Available\",\"average_queue_time\":3}]",
      "text/html": [
       "<table><thead><tr><th style=\"text-align: start;\">Target ID</th><th style=\"text-align: start;\">Current Availability</th><th style=\"text-align: start;\">Average Queue Time (Seconds)</th></tr></thead><tbody><tr><td style=\"text-align: start;\">ionq.qpu</td><td style=\"text-align: start;\">Available</td><td style=\"text-align: start;\">1051</td></tr><tr><td style=\"text-align: start;\">ionq.simulator</td><td style=\"text-align: start;\">Available</td><td style=\"text-align: start;\">0</td></tr><tr><td style=\"text-align: start;\">honeywell.hqs-lt-1.0</td><td style=\"text-align: start;\">Degraded</td><td style=\"text-align: start;\">29015</td></tr><tr><td style=\"text-align: start;\">honeywell.hqs-lt-1.0-apival</td><td style=\"text-align: start;\">Available</td><td style=\"text-align: start;\">3</td></tr></tbody></table>"
      ],
      "text/plain": [
       "Target ID                   Current Availability Average Queue Time (Seconds)\r\n",
       "--------------------------- --------- -----\r\n",
       "ionq.qpu                    Available 1051\r\n",
       "ionq.simulator              Available 0\r\n",
       "honeywell.hqs-lt-1.0        Degraded  29015\r\n",
       "honeywell.hqs-lt-1.0-apival Available 3\r\n"
      ]
     },
     "execution_count": 18,
     "metadata": {},
     "output_type": "execute_result"
    }
   ],
   "source": [
    "%azure.connect \"/subscriptions/a6c78a63-6e6d-4d66-8d84-3989715f3111/resourceGroups/quantum/providers/Microsoft.Quantum/Workspaces/demo-ws1\""
   ]
  },
  {
   "cell_type": "code",
   "execution_count": 19,
   "metadata": {},
   "outputs": [
    {
     "name": "stdout",
     "output_type": "stream",
     "text": [
      "Loading package Microsoft.Quantum.Providers.IonQ and dependencies...\n",
      "Active target is now ionq.simulator\n"
     ]
    },
    {
     "data": {
      "application/json": "{\"id\":\"ionq.simulator\",\"current_availability\":\"Available\",\"average_queue_time\":0}",
      "text/html": [
       "<table><thead><tr><th style=\"text-align: start;\">Target ID</th><th style=\"text-align: start;\">Current Availability</th><th style=\"text-align: start;\">Average Queue Time (Seconds)</th></tr></thead><tbody><tr><td style=\"text-align: start;\">ionq.simulator</td><td style=\"text-align: start;\">Available</td><td style=\"text-align: start;\">0</td></tr></tbody></table>"
      ],
      "text/plain": [
       "Target ID      Current Availability Average Queue Time (Seconds)\r\n",
       "-------------- --------- -\r\n",
       "ionq.simulator Available 0\r\n"
      ]
     },
     "execution_count": 19,
     "metadata": {},
     "output_type": "execute_result"
    }
   ],
   "source": [
    "%azure.target ionq.simulator"
   ]
  },
  {
   "cell_type": "code",
   "execution_count": 20,
   "metadata": {},
   "outputs": [
    {
     "name": "stdout",
     "output_type": "stream",
     "text": [
      "Submitting LoopNQubits to target ionq.simulator...\n",
      "Job successfully submitted for 500 shots.\n",
      "   Job name: LoopNQubits\n",
      "   Job ID: 8e140568-0ce5-47ef-95bb-1033186e88b9\n",
      "Waiting up to 30 seconds for Azure Quantum job to complete...\n",
      "[15:47:51] Current job status: Executing\n",
      "[15:47:56] Current job status: Executing\n",
      "[15:48:01] Current job status: Executing\n",
      "[15:48:06] Current job status: Executing\n",
      "[15:48:11] Current job status: Failed\n"
     ]
    },
    {
     "name": "stderr",
     "output_type": "stream",
     "text": [
      "Job ID 8e140568-0ce5-47ef-95bb-1033186e88b9 has not completed. To check the status, call %azure.status with the job ID.\r\n"
     ]
    },
    {
     "data": {
      "application/json": "{\"error_code\":1005,\"error_name\":\"JobNotCompleted\",\"error_description\":\"The specified Azure Quantum job has not yet completed.\"}",
      "text/html": [
       "The specified Azure Quantum job has not yet completed."
      ],
      "text/plain": [
       "The specified Azure Quantum job has not yet completed."
      ]
     },
     "execution_count": 20,
     "metadata": {},
     "output_type": "execute_result"
    }
   ],
   "source": [
    "%azure.execute LoopNQubits"
   ]
  },
  {
   "cell_type": "code",
   "execution_count": 21,
   "metadata": {},
   "outputs": [
    {
     "data": {
      "application/json": "{\"id\":\"8e140568-0ce5-47ef-95bb-1033186e88b9\",\"name\":\"LoopNQubits\",\"status\":\"Failed\",\"uri\":\"https://ms.portal.azure.com/#@microsoft.onmicrosoft.com/resource/subscriptions/a6c78a63-6e6d-4d66-8d84-3989715f3111/resourceGroups/quantum/providers/Microsoft.Quantum/Workspaces/demo-ws1/job_management?microsoft_azure_quantum_jobid=8e140568-0ce5-47ef-95bb-1033186e88b9\",\"provider\":\"ionq\",\"target\":\"ionq.simulator\",\"creation_time\":\"2021-06-01T22:47:45.2023529Z\",\"begin_execution_time\":\"2021-06-01T22:48:07.897Z\",\"end_execution_time\":\"2021-06-01T22:48:07.897Z\"}",
      "text/html": [
       "<table><thead><tr><th style=\"text-align: start;\">Job Name</th><th style=\"text-align: start;\">Job ID</th><th style=\"text-align: start;\">Job Status</th><th style=\"text-align: start;\">Target</th><th style=\"text-align: start;\">Creation Time</th><th style=\"text-align: start;\">Begin Execution Time</th><th style=\"text-align: start;\">End Execution Time</th></tr></thead><tbody><tr><td style=\"text-align: start;\">LoopNQubits</td><td style=\"text-align: start;\"><a href=\"https://ms.portal.azure.com/#@microsoft.onmicrosoft.com/resource/subscriptions/a6c78a63-6e6d-4d66-8d84-3989715f3111/resourceGroups/quantum/providers/Microsoft.Quantum/Workspaces/demo-ws1/job_management?microsoft_azure_quantum_jobid=8e140568-0ce5-47ef-95bb-1033186e88b9\" target=\"_blank\">8e140568-0ce5-47ef-95bb-1033186e88b9</a></td><td style=\"text-align: start;\">Failed</td><td style=\"text-align: start;\">ionq.simulator</td><td style=\"text-align: start;\">6/1/2021 22:47:45</td><td style=\"text-align: start;\">6/1/2021 22:48:07</td><td style=\"text-align: start;\">6/1/2021 22:48:07</td></tr></tbody></table>"
      ],
      "text/plain": [
       "Job Name    Job ID                                                                                                                                                                                                                                                                                                                                          Job Status Target         Creation Time     Begin Execution Time End Execution Time\r\n",
       "----------- ----------------------------------------------------------------------------------------------------------------------------------------------------------------------------------------------------------------------------------------------------------------------------------------------------------------------------------------------- ------ -------------- ----------------- ----------------- -----------------\r\n",
       "LoopNQubits <a href=\"https://ms.portal.azure.com/#@microsoft.onmicrosoft.com/resource/subscriptions/a6c78a63-6e6d-4d66-8d84-3989715f3111/resourceGroups/quantum/providers/Microsoft.Quantum/Workspaces/demo-ws1/job_management?microsoft_azure_quantum_jobid=8e140568-0ce5-47ef-95bb-1033186e88b9\" target=\"_blank\">8e140568-0ce5-47ef-95bb-1033186e88b9</a> Failed ionq.simulator 6/1/2021 22:47:45 6/1/2021 22:48:07 6/1/2021 22:48:07\r\n"
      ]
     },
     "execution_count": 21,
     "metadata": {},
     "output_type": "execute_result"
    }
   ],
   "source": [
    "%azure.status \"8e140568-0ce5-47ef-95bb-1033186e88b9\""
   ]
  },
  {
   "cell_type": "code",
   "execution_count": null,
   "metadata": {},
   "outputs": [],
   "source": []
  }
 ],
 "metadata": {
  "kernelspec": {
   "display_name": "Q#",
   "language": "qsharp",
   "name": "iqsharp"
  },
  "language_info": {
   "file_extension": ".qs",
   "mimetype": "text/x-qsharp",
   "name": "qsharp",
   "version": "0.14"
  }
 },
 "nbformat": 4,
 "nbformat_minor": 4
}
